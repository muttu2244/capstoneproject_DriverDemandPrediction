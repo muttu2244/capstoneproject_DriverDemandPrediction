{
  "nbformat": 4,
  "nbformat_minor": 0,
  "metadata": {
    "colab": {
      "provenance": [],
      "authorship_tag": "ABX9TyPpaZbxCLD/Vmo+mvCg5nLF",
      "include_colab_link": true
    },
    "kernelspec": {
      "name": "python3",
      "display_name": "Python 3"
    },
    "language_info": {
      "name": "python"
    }
  },
  "cells": [
    {
      "cell_type": "markdown",
      "metadata": {
        "id": "view-in-github",
        "colab_type": "text"
      },
      "source": [
        "<a href=\"https://colab.research.google.com/github/muttu2244/capstoneproject_DriverDemandPrediction/blob/main/DriverDemandPredictionforOptimalFoodDeliveryCharges.ipynb\" target=\"_parent\"><img src=\"https://colab.research.google.com/assets/colab-badge.svg\" alt=\"Open In Colab\"/></a>"
      ]
    },
    {
      "cell_type": "code",
      "execution_count": null,
      "metadata": {
        "id": "VU08Ck-qAUrA"
      },
      "outputs": [],
      "source": [
        "import pandas as pd\n",
        "import numpy as np\n",
        "from datetime import datetime, timedelta\n",
        "from sklearn.impute import SimpleImputer,MissingIndicator, KNNImputer\n",
        "from sklearn.model_selection import train_test_split, cross_validate,GridSearchCV,RepeatedStratifiedKFold,cross_val_score,cross_val_predict\n",
        "from sklearn.preprocessing import PowerTransformer,OneHotEncoder, StandardScaler\n",
        "from sklearn.linear_model import LogisticRegression\n",
        "from sklearn.compose import make_column_transformer,make_column_selector,ColumnTransformer\n",
        "from sklearn.ensemble import RandomForestRegressor, VotingRegressor, GradientBoostingRegressor,RandomForestClassifier\n",
        "from sklearn.pipeline import make_pipeline, Pipeline\n",
        "from sklearn.preprocessing import PolynomialFeatures\n",
        "from sklearn.metrics import roc_auc_score\n",
        "from sklearn.impute import  KNNImputer\n",
        "from sklearn.svm import SVC\n",
        "from lightgbm import LGBMRegressor, LGBMClassifier\n",
        "import xgboost as xgb\n",
        "\n",
        "import warnings; warnings.filterwarnings(\"ignore\")\n",
        "import numpy as np\n",
        "import pandas as pd\n",
        "#from kuma_utils.preprocessing.imputer import LGBMImputer\n",
        "from sklearn.decomposition import PCA\n",
        "from sklearn.preprocessing import MinMaxScaler,RobustScaler\n",
        "from sklearn.linear_model import LogisticRegression\n",
        "from sklearn.model_selection import RandomizedSearchCV\n",
        "import holidays\n",
        "import gc\n",
        "from sklearn.preprocessing import FunctionTransformer\n",
        "from sklearn.preprocessing import SplineTransformer\n",
        "from sklearn.preprocessing import PolynomialFeatures\n",
        "from geopy.distance import geodesic\n",
        "\n",
        "import gc\n",
        "\n",
        "\n",
        "from category_encoders import OrdinalEncoder\n",
        "\n",
        "\n",
        "import matplotlib.pyplot as plt\n",
        "import seaborn as sns\n",
        "import scipy.stats as stats\n",
        "from sklearn.preprocessing import KBinsDiscretizer,LabelEncoder\n",
        "from feature_engine.encoding import OrdinalEncoder\n",
        "from feature_engine.discretisation import EqualFrequencyDiscretiser\n",
        "from feature_engine.encoding import RareLabelEncoder\n",
        "from feature_engine.selection import DropDuplicateFeatures, DropConstantFeatures\n",
        "from feature_engine.selection import (RecursiveFeatureElimination, RecursiveFeatureAddition,\n",
        "    DropConstantFeatures,\n",
        "    DropDuplicateFeatures,\n",
        "    SmartCorrelatedSelection,DropCorrelatedFeatures\n",
        ")\n",
        "from feature_engine.creation import MathFeatures,RelativeFeatures\n",
        "\n",
        "# to select the features\n",
        "from sklearn.feature_selection import SelectKBest, SelectPercentile\n",
        "from feature_engine.encoding import CountFrequencyEncoder\n",
        "from feature_engine.encoding import OneHotEncoder\n",
        "from feature_engine.encoding import MeanEncoder\n",
        "from sklearn import metrics\n",
        "from feature_engine.encoding import CountFrequencyEncoder\n",
        "from sklearn.cluster import KMeans\n",
        "from category_encoders import MEstimateEncoder,OrdinalEncoder\n",
        "from sklearn.experimental import enable_iterative_imputer\n",
        "from sklearn.impute import IterativeImputer\n",
        "from sklearn.preprocessing import KBinsDiscretizer\n",
        "\n",
        "\n",
        "from sklearn.ensemble import StackingRegressor"
      ]
    }
  ]
}